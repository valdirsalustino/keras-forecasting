{
 "cells": [
  {
   "cell_type": "markdown",
   "id": "99088513",
   "metadata": {},
   "source": [
    "# Keras forecasting for jena dataset\n",
    "\n",
    "Notes from Chollet's [book](https://www.amazon.com.br/Deep-Learning-Python-Francois-Chollet/dp/1617294438/ref=sr_1_1?adgrpid=82022317140&dchild=1&gclid=CjwKCAjwmqKJBhAWEiwAMvGt6BqZ01AuTvd_dexj4ajY5Fm0I7BYAb_PQPg5SR9yu-JA0YVCcBS97xoCl-YQAvD_BwE&hvadid=426016012043&hvdev=c&hvlocphy=9100482&hvnetw=g&hvqmt=b&hvrand=3608483639682862243&hvtargid=kwd-305262673818&hydadcr=5656_11235223&keywords=deep+learning+with+python&qid=1630069713&sr=8-1&ufe=app_do%3Aamzn1.fos.4bb5663b-6f7d-4772-84fa-7c7f565ec65b). \n",
    "\n"
   ]
  },
  {
   "cell_type": "code",
   "execution_count": 231,
   "id": "68c1f109",
   "metadata": {},
   "outputs": [],
   "source": [
    "import os\n",
    "from matplotlib import pyplot as plt\n",
    "import pandas as pd\n",
    "import numpy as np\n",
    "from progressbar import progressbar"
   ]
  },
  {
   "cell_type": "code",
   "execution_count": 2,
   "id": "44201265",
   "metadata": {},
   "outputs": [],
   "source": [
    "fname = 'data/jena_climate_2009_2016.csv'\n",
    "df = pd.read_csv(fname)"
   ]
  },
  {
   "cell_type": "code",
   "execution_count": 3,
   "id": "c8296bfc",
   "metadata": {},
   "outputs": [
    {
     "data": {
      "text/html": [
       "<div>\n",
       "<style scoped>\n",
       "    .dataframe tbody tr th:only-of-type {\n",
       "        vertical-align: middle;\n",
       "    }\n",
       "\n",
       "    .dataframe tbody tr th {\n",
       "        vertical-align: top;\n",
       "    }\n",
       "\n",
       "    .dataframe thead th {\n",
       "        text-align: right;\n",
       "    }\n",
       "</style>\n",
       "<table border=\"1\" class=\"dataframe\">\n",
       "  <thead>\n",
       "    <tr style=\"text-align: right;\">\n",
       "      <th></th>\n",
       "      <th>Date Time</th>\n",
       "      <th>p (mbar)</th>\n",
       "      <th>T (degC)</th>\n",
       "      <th>Tpot (K)</th>\n",
       "      <th>Tdew (degC)</th>\n",
       "      <th>rh (%)</th>\n",
       "      <th>VPmax (mbar)</th>\n",
       "      <th>VPact (mbar)</th>\n",
       "      <th>VPdef (mbar)</th>\n",
       "      <th>sh (g/kg)</th>\n",
       "      <th>H2OC (mmol/mol)</th>\n",
       "      <th>rho (g/m**3)</th>\n",
       "      <th>wv (m/s)</th>\n",
       "      <th>max. wv (m/s)</th>\n",
       "      <th>wd (deg)</th>\n",
       "    </tr>\n",
       "  </thead>\n",
       "  <tbody>\n",
       "    <tr>\n",
       "      <th>0</th>\n",
       "      <td>01.01.2009 00:10:00</td>\n",
       "      <td>996.52</td>\n",
       "      <td>-8.02</td>\n",
       "      <td>265.40</td>\n",
       "      <td>-8.90</td>\n",
       "      <td>93.3</td>\n",
       "      <td>3.33</td>\n",
       "      <td>3.11</td>\n",
       "      <td>0.22</td>\n",
       "      <td>1.94</td>\n",
       "      <td>3.12</td>\n",
       "      <td>1307.75</td>\n",
       "      <td>1.03</td>\n",
       "      <td>1.75</td>\n",
       "      <td>152.3</td>\n",
       "    </tr>\n",
       "    <tr>\n",
       "      <th>1</th>\n",
       "      <td>01.01.2009 00:20:00</td>\n",
       "      <td>996.57</td>\n",
       "      <td>-8.41</td>\n",
       "      <td>265.01</td>\n",
       "      <td>-9.28</td>\n",
       "      <td>93.4</td>\n",
       "      <td>3.23</td>\n",
       "      <td>3.02</td>\n",
       "      <td>0.21</td>\n",
       "      <td>1.89</td>\n",
       "      <td>3.03</td>\n",
       "      <td>1309.80</td>\n",
       "      <td>0.72</td>\n",
       "      <td>1.50</td>\n",
       "      <td>136.1</td>\n",
       "    </tr>\n",
       "    <tr>\n",
       "      <th>2</th>\n",
       "      <td>01.01.2009 00:30:00</td>\n",
       "      <td>996.53</td>\n",
       "      <td>-8.51</td>\n",
       "      <td>264.91</td>\n",
       "      <td>-9.31</td>\n",
       "      <td>93.9</td>\n",
       "      <td>3.21</td>\n",
       "      <td>3.01</td>\n",
       "      <td>0.20</td>\n",
       "      <td>1.88</td>\n",
       "      <td>3.02</td>\n",
       "      <td>1310.24</td>\n",
       "      <td>0.19</td>\n",
       "      <td>0.63</td>\n",
       "      <td>171.6</td>\n",
       "    </tr>\n",
       "    <tr>\n",
       "      <th>3</th>\n",
       "      <td>01.01.2009 00:40:00</td>\n",
       "      <td>996.51</td>\n",
       "      <td>-8.31</td>\n",
       "      <td>265.12</td>\n",
       "      <td>-9.07</td>\n",
       "      <td>94.2</td>\n",
       "      <td>3.26</td>\n",
       "      <td>3.07</td>\n",
       "      <td>0.19</td>\n",
       "      <td>1.92</td>\n",
       "      <td>3.08</td>\n",
       "      <td>1309.19</td>\n",
       "      <td>0.34</td>\n",
       "      <td>0.50</td>\n",
       "      <td>198.0</td>\n",
       "    </tr>\n",
       "    <tr>\n",
       "      <th>4</th>\n",
       "      <td>01.01.2009 00:50:00</td>\n",
       "      <td>996.51</td>\n",
       "      <td>-8.27</td>\n",
       "      <td>265.15</td>\n",
       "      <td>-9.04</td>\n",
       "      <td>94.1</td>\n",
       "      <td>3.27</td>\n",
       "      <td>3.08</td>\n",
       "      <td>0.19</td>\n",
       "      <td>1.92</td>\n",
       "      <td>3.09</td>\n",
       "      <td>1309.00</td>\n",
       "      <td>0.32</td>\n",
       "      <td>0.63</td>\n",
       "      <td>214.3</td>\n",
       "    </tr>\n",
       "  </tbody>\n",
       "</table>\n",
       "</div>"
      ],
      "text/plain": [
       "             Date Time  p (mbar)  T (degC)  Tpot (K)  Tdew (degC)  rh (%)  \\\n",
       "0  01.01.2009 00:10:00    996.52     -8.02    265.40        -8.90    93.3   \n",
       "1  01.01.2009 00:20:00    996.57     -8.41    265.01        -9.28    93.4   \n",
       "2  01.01.2009 00:30:00    996.53     -8.51    264.91        -9.31    93.9   \n",
       "3  01.01.2009 00:40:00    996.51     -8.31    265.12        -9.07    94.2   \n",
       "4  01.01.2009 00:50:00    996.51     -8.27    265.15        -9.04    94.1   \n",
       "\n",
       "   VPmax (mbar)  VPact (mbar)  VPdef (mbar)  sh (g/kg)  H2OC (mmol/mol)  \\\n",
       "0          3.33          3.11          0.22       1.94             3.12   \n",
       "1          3.23          3.02          0.21       1.89             3.03   \n",
       "2          3.21          3.01          0.20       1.88             3.02   \n",
       "3          3.26          3.07          0.19       1.92             3.08   \n",
       "4          3.27          3.08          0.19       1.92             3.09   \n",
       "\n",
       "   rho (g/m**3)  wv (m/s)  max. wv (m/s)  wd (deg)  \n",
       "0       1307.75      1.03           1.75     152.3  \n",
       "1       1309.80      0.72           1.50     136.1  \n",
       "2       1310.24      0.19           0.63     171.6  \n",
       "3       1309.19      0.34           0.50     198.0  \n",
       "4       1309.00      0.32           0.63     214.3  "
      ]
     },
     "execution_count": 3,
     "metadata": {},
     "output_type": "execute_result"
    }
   ],
   "source": [
    "df[:5]"
   ]
  },
  {
   "cell_type": "code",
   "execution_count": 4,
   "id": "e7414308",
   "metadata": {},
   "outputs": [
    {
     "data": {
      "text/plain": [
       "Date Time          0\n",
       "p (mbar)           0\n",
       "T (degC)           0\n",
       "Tpot (K)           0\n",
       "Tdew (degC)        0\n",
       "rh (%)             0\n",
       "VPmax (mbar)       0\n",
       "VPact (mbar)       0\n",
       "VPdef (mbar)       0\n",
       "sh (g/kg)          0\n",
       "H2OC (mmol/mol)    0\n",
       "rho (g/m**3)       0\n",
       "wv (m/s)           0\n",
       "max. wv (m/s)      0\n",
       "wd (deg)           0\n",
       "dtype: int64"
      ]
     },
     "execution_count": 4,
     "metadata": {},
     "output_type": "execute_result"
    }
   ],
   "source": [
    "df.isnull().sum()"
   ]
  },
  {
   "cell_type": "code",
   "execution_count": 5,
   "id": "4b778629",
   "metadata": {},
   "outputs": [
    {
     "data": {
      "text/plain": [
       "<AxesSubplot:xlabel='Date Time'>"
      ]
     },
     "execution_count": 5,
     "metadata": {},
     "output_type": "execute_result"
    },
    {
     "data": {
      "image/png": "[encoded data removed]",
      "text/plain": [
       "<Figure size 432x288 with 1 Axes>"
      ]
     },
     "metadata": {
      "needs_background": "light"
     },
     "output_type": "display_data"
    }
   ],
   "source": [
    "df.plot(x='Date Time', y='T (degC)')"
   ]
  },
  {
   "cell_type": "code",
   "execution_count": 6,
   "id": "51f7ab2f",
   "metadata": {},
   "outputs": [
    {
     "data": {
      "text/plain": [
       "<AxesSubplot:xlabel='Date Time'>"
      ]
     },
     "execution_count": 6,
     "metadata": {},
     "output_type": "execute_result"
    },
    {
     "data": {
      "image/png": "[encoded data removed]",
      "text/plain": [
       "<Figure size 432x288 with 1 Axes>"
      ]
     },
     "metadata": {
      "needs_background": "light"
     },
     "output_type": "display_data"
    }
   ],
   "source": [
    "# first 10 days (data is recorded every 10 min)\n",
    "df[:10*24*6].plot(x='Date Time', y='T (degC)', rot=45)"
   ]
  },
  {
   "cell_type": "code",
   "execution_count": 7,
   "id": "dba998ac",
   "metadata": {},
   "outputs": [],
   "source": [
    "# standard scaler\n",
    "\n",
    "X = df[df.columns[1:]].values\n",
    "mean = X[:200000].mean(axis=0)\n",
    "X -= mean\n",
    "std = X[:200000].std(axis=0)\n",
    "X /= std"
   ]
  },
  {
   "cell_type": "code",
   "execution_count": 8,
   "id": "0cded9ce",
   "metadata": {},
   "outputs": [],
   "source": [
    "def generator(data, lookback, delay, min_index, max_index,\n",
    "              shuffle=False, batch_size=128, step=6):\n",
    "    \"\"\"\n",
    "      data: The original array of floating-point data (normalized)\n",
    "      lookback: How many timesteps back the input data should go.\n",
    "      delay: How many timesteps in the future the target should be.\n",
    "      min_index and max_index—Indices in the data array that delimit which time-steps to draw from.\n",
    "      This is useful for keeping a segment of the data for validation and another for testing.\n",
    "      shuffle: Whether to shuffle the samples or draw them in chronological order.\n",
    "      batch_size: The number of samples per batch.\n",
    "      step: The period, in timesteps, at which you sample data.\n",
    "    \"\"\"\n",
    "    \n",
    "    if max_index is None:\n",
    "        max_index = len(data) - delay - 1\n",
    "    i = min_index + lookback\n",
    "    \n",
    "    while True:\n",
    "        if shuffle:\n",
    "            rows = np.random.randint(min_index + lookback, max_index, size=batch_size)\n",
    "        else:\n",
    "            if i + batch_size >= max_index:\n",
    "                i = min_index + lookback\n",
    "            rows = np.arange(i, min(i + batch_size, max_index))\n",
    "            i += len(rows)\n",
    "            \n",
    "        samples = np.zeros(\n",
    "             (len(rows),\n",
    "             lookback // step,\n",
    "             data.shape[-1]))\n",
    "        targets = np.zeros((len(rows)))\n",
    "        for j, row in enumerate(rows):\n",
    "            indices = range(rows[j] - lookback, rows[j], step)\n",
    "            samples[j] = data[indices]\n",
    "            targets[j] = data[rows[j] + delay][1]\n",
    "            \n",
    "        yield samples, targets"
   ]
  },
  {
   "cell_type": "markdown",
   "id": "62b5e4c0",
   "metadata": {},
   "source": [
    "Let's use the abstract generator function to instantiate three generators: one for training, one for validation, and one for testing. \n",
    "\n",
    "Each will look at different temporal segments of the original data: \n",
    "the training generator looks at the first 200,000 time-steps, the validation generator looks at the following 100,000, and the test generator looks at the remainder.\n"
   ]
  },
  {
   "cell_type": "code",
   "execution_count": 9,
   "id": "69cee6f7",
   "metadata": {},
   "outputs": [],
   "source": [
    "lookback = 10*24*6 # (days*hours*step) Observations will go back 5 days.\n",
    "step = 6 # Observations will be sampled at one data point per hour.\n",
    "delay = 144 # Targets will be 24 hours in the future.\n",
    "batch_size = 128\n",
    "\n",
    "\n",
    "train_gen = generator(X,\n",
    "                      lookback=lookback,\n",
    "                      delay=delay,\n",
    "                      min_index=0,\n",
    "                      max_index=200000,\n",
    "                      shuffle=True,\n",
    "                      step=step,\n",
    "                      batch_size=batch_size)\n",
    "\n",
    "val_gen = generator(X,\n",
    "                    lookback=lookback,\n",
    "                    delay=delay,\n",
    "                    min_index=200001,\n",
    "                    max_index=300000,\n",
    "                    step=step,\n",
    "                    batch_size=batch_size)\n",
    "\n",
    "test_gen = generator(X,\n",
    "                     lookback=lookback,\n",
    "                     delay=delay,\n",
    "                     min_index=300001,\n",
    "                     max_index=None,\n",
    "                     step=step,\n",
    "                     batch_size=batch_size)"
   ]
  },
  {
   "cell_type": "code",
   "execution_count": 10,
   "id": "acfb34b3",
   "metadata": {},
   "outputs": [],
   "source": [
    "# How many steps to draw from val_gen in order to see the entire validation set\n",
    "val_steps = (300000 - 200001 - lookback)\n",
    "\n",
    "# How many steps to draw from test_gen in order to see the entire test set\n",
    "test_steps = (len(X) - 300001 - lookback)"
   ]
  },
  {
   "cell_type": "code",
   "execution_count": 11,
   "id": "05059aa3",
   "metadata": {},
   "outputs": [],
   "source": [
    "# Baseline model: naive predictor (temperature tomorrow = temperature right now)\n",
    "\n",
    "def evaluate_naive_method():\n",
    "    batch_maes = []\n",
    "    for step in progressbar(range(val_steps)):\n",
    "        samples, targets = next(val_gen)\n",
    "        preds = samples[:, -1, 1]\n",
    "        mae = np.mean(np.abs(preds - targets))\n",
    "        batch_maes.append(mae)\n",
    "    print(np.mean(batch_maes))"
   ]
  },
  {
   "cell_type": "code",
   "execution_count": 120,
   "id": "ded299df",
   "metadata": {},
   "outputs": [
    {
     "name": "stderr",
     "output_type": "stream",
     "text": [
      "100% (98559 of 98559) |##################| Elapsed Time: 0:14:16 Time:  0:14:16\n"
     ]
    },
    {
     "name": "stdout",
     "output_type": "stream",
     "text": [
      "0.2896957472219946\n"
     ]
    }
   ],
   "source": [
    "evaluate_naive_method()"
   ]
  },
  {
   "cell_type": "code",
   "execution_count": 12,
   "id": "a6ac3483",
   "metadata": {},
   "outputs": [],
   "source": [
    "baseline_mae = 0.2896957472219946"
   ]
  },
  {
   "cell_type": "code",
   "execution_count": 13,
   "id": "ff1812ba",
   "metadata": {},
   "outputs": [
    {
     "name": "stdout",
     "output_type": "stream",
     "text": [
      "2.56 degree C MAE\n"
     ]
    }
   ],
   "source": [
    "# this is equivalent to \n",
    "print(f\"{round((baseline_mae)*std[1] ,2)} degree C MAE\")"
   ]
  },
  {
   "cell_type": "markdown",
   "id": "a91b428e",
   "metadata": {},
   "source": [
    "### A basic machine-learning approach "
   ]
  },
  {
   "cell_type": "code",
   "execution_count": 17,
   "id": "4e21727f",
   "metadata": {},
   "outputs": [
    {
     "data": {
      "text/plain": [
       "98559"
      ]
     },
     "execution_count": 17,
     "metadata": {},
     "output_type": "execute_result"
    }
   ],
   "source": [
    "val_steps"
   ]
  },
  {
   "cell_type": "code",
   "execution_count": null,
   "id": "ad63a93e",
   "metadata": {},
   "outputs": [],
   "source": [
    "128*20"
   ]
  },
  {
   "cell_type": "code",
   "execution_count": 18,
   "id": "0b782730",
   "metadata": {
    "scrolled": true
   },
   "outputs": [
    {
     "name": "stdout",
     "output_type": "stream",
     "text": [
      "Epoch 1/20\n",
      "512/512 [==============================] - 22s 41ms/step - loss: 1.2229 - val_loss: 0.6781\n",
      "Epoch 2/20\n",
      "512/512 [==============================] - 20s 39ms/step - loss: 0.4120 - val_loss: 0.3433\n",
      "Epoch 3/20\n",
      "512/512 [==============================] - 21s 41ms/step - loss: 0.2913 - val_loss: 0.2884\n",
      "Epoch 4/20\n",
      "512/512 [==============================] - 25s 50ms/step - loss: 0.2684 - val_loss: 0.3420\n",
      "Epoch 5/20\n",
      "512/512 [==============================] - 19s 36ms/step - loss: 0.2553 - val_loss: 0.3348\n",
      "Epoch 6/20\n",
      "512/512 [==============================] - 18s 35ms/step - loss: 0.2447 - val_loss: 0.3120\n",
      "Epoch 7/20\n",
      "512/512 [==============================] - 20s 39ms/step - loss: 0.2387 - val_loss: 0.3344\n",
      "Epoch 8/20\n",
      "512/512 [==============================] - 29s 57ms/step - loss: 0.2316 - val_loss: 0.3308\n",
      "Epoch 9/20\n",
      "512/512 [==============================] - 21s 40ms/step - loss: 0.2257 - val_loss: 0.3023\n",
      "Epoch 10/20\n",
      "512/512 [==============================] - 18s 36ms/step - loss: 0.2216 - val_loss: 0.3502\n",
      "Epoch 11/20\n",
      "512/512 [==============================] - 18s 34ms/step - loss: 0.2173 - val_loss: 0.3627\n",
      "Epoch 12/20\n",
      "512/512 [==============================] - 19s 37ms/step - loss: 0.2156 - val_loss: 0.3081\n",
      "Epoch 13/20\n",
      "512/512 [==============================] - 17s 34ms/step - loss: 0.2119 - val_loss: 0.3626\n",
      "Epoch 14/20\n",
      "512/512 [==============================] - 18s 35ms/step - loss: 0.2092 - val_loss: 0.3424\n",
      "Epoch 15/20\n",
      "512/512 [==============================] - 18s 36ms/step - loss: 0.2057 - val_loss: 0.3229\n",
      "Epoch 16/20\n",
      "512/512 [==============================] - 22s 43ms/step - loss: 0.2051 - val_loss: 0.3298\n",
      "Epoch 17/20\n",
      "512/512 [==============================] - 27s 53ms/step - loss: 0.2027 - val_loss: 0.3540\n",
      "Epoch 18/20\n",
      "512/512 [==============================] - 22s 44ms/step - loss: 0.2018 - val_loss: 0.3314\n",
      "Epoch 19/20\n",
      "512/512 [==============================] - 19s 38ms/step - loss: 0.1991 - val_loss: 0.3358\n",
      "Epoch 20/20\n",
      "512/512 [==============================] - 23s 45ms/step - loss: 0.1969 - val_loss: 0.3482\n"
     ]
    }
   ],
   "source": [
    "from keras.models import Sequential \n",
    "from keras import layers\n",
    "from tensorflow.keras.optimizers import RMSprop\n",
    "\n",
    "model = Sequential()\n",
    "model.add(layers.Flatten(input_shape=(lookback // step, X.shape[-1]))) \n",
    "model.add(layers.Dense(32, activation='relu'))\n",
    "model.add(layers.Dense(1))\n",
    "\n",
    "model.compile(optimizer=RMSprop(), loss='mae')\n",
    "\n",
    "history = model.fit(train_gen, \n",
    "                    steps_per_epoch=batch_size*4,\n",
    "                    epochs=20, \n",
    "                    validation_data=val_gen, \n",
    "                    validation_steps=batch_size*4)\n"
   ]
  },
  {
   "cell_type": "code",
   "execution_count": 22,
   "id": "958a342e",
   "metadata": {},
   "outputs": [
    {
     "data": {
      "image/png": "[encoded data removed]",
      "text/plain": [
       "<Figure size 432x288 with 1 Axes>"
      ]
     },
     "metadata": {
      "needs_background": "light"
     },
     "output_type": "display_data"
    }
   ],
   "source": [
    "loss = history.history['loss']\n",
    "\n",
    "val_loss = history.history['val_loss']\n",
    "epochs = range(1, len(loss) + 1)\n",
    "\n",
    "plt.figure()\n",
    "plt.plot(epochs, loss, 'bo', label='Training loss')\n",
    "plt.plot(epochs, val_loss, 'b', label='Validation loss')\n",
    "plt.axline((0, baseline_mae), (20, baseline_mae), color='red', label='baseline (naive guess)')\n",
    "plt.ylim(0, 0.6)\n",
    "plt.title('Training and validation loss')\n",
    "plt.legend()\n",
    "plt.show()"
   ]
  },
  {
   "cell_type": "markdown",
   "id": "a15de121",
   "metadata": {},
   "source": [
    "### GRU model"
   ]
  },
  {
   "cell_type": "code",
   "execution_count": 28,
   "id": "620605c7",
   "metadata": {
    "scrolled": true
   },
   "outputs": [
    {
     "name": "stderr",
     "output_type": "stream",
     "text": [
      "/Users/valdirsalustino/Documents/git/keras-forecasting/venv/lib/python3.9/site-packages/keras/engine/training.py:1972: UserWarning: `Model.fit_generator` is deprecated and will be removed in a future version. Please use `Model.fit`, which supports generators.\n",
      "  warnings.warn('`Model.fit_generator` is deprecated and '\n"
     ]
    },
    {
     "name": "stdout",
     "output_type": "stream",
     "text": [
      "Epoch 1/20\n",
      "929/929 [==============================] - 217s 230ms/step - loss: 0.2986 - val_loss: 0.2690\n",
      "Epoch 2/20\n",
      "929/929 [==============================] - 209s 225ms/step - loss: 0.2758 - val_loss: 0.2630\n",
      "Epoch 3/20\n",
      "929/929 [==============================] - 235s 253ms/step - loss: 0.2669 - val_loss: 0.2635\n",
      "Epoch 4/20\n",
      "929/929 [==============================] - 207s 223ms/step - loss: 0.2556 - val_loss: 0.2669\n",
      "Epoch 5/20\n",
      "929/929 [==============================] - 195s 210ms/step - loss: 0.2466 - val_loss: 0.2687\n",
      "Epoch 6/20\n",
      "929/929 [==============================] - 187s 201ms/step - loss: 0.2389 - val_loss: 0.2828\n",
      "Epoch 7/20\n",
      "929/929 [==============================] - 215s 231ms/step - loss: 0.2316 - val_loss: 0.2850\n",
      "Epoch 8/20\n",
      "929/929 [==============================] - 197s 212ms/step - loss: 0.2235 - val_loss: 0.2878\n",
      "Epoch 9/20\n",
      "929/929 [==============================] - 196s 211ms/step - loss: 0.2158 - val_loss: 0.2945\n",
      "Epoch 10/20\n",
      "929/929 [==============================] - 195s 210ms/step - loss: 0.2084 - val_loss: 0.2997\n",
      "Epoch 11/20\n",
      "929/929 [==============================] - 197s 212ms/step - loss: 0.2019 - val_loss: 0.3023\n",
      "Epoch 12/20\n",
      "929/929 [==============================] - 197s 212ms/step - loss: 0.1973 - val_loss: 0.3081\n",
      "Epoch 13/20\n",
      "929/929 [==============================] - 197s 213ms/step - loss: 0.1932 - val_loss: 0.3127\n",
      "Epoch 14/20\n",
      "929/929 [==============================] - 196s 211ms/step - loss: 0.1885 - val_loss: 0.3143\n",
      "Epoch 15/20\n",
      "929/929 [==============================] - 194s 209ms/step - loss: 0.1856 - val_loss: 0.3274\n",
      "Epoch 16/20\n",
      "929/929 [==============================] - 197s 212ms/step - loss: 0.1812 - val_loss: 0.3261\n",
      "Epoch 17/20\n",
      "929/929 [==============================] - 198s 213ms/step - loss: 0.1782 - val_loss: 0.3261\n",
      "Epoch 18/20\n",
      "929/929 [==============================] - 197s 212ms/step - loss: 0.1756 - val_loss: 0.3248\n",
      "Epoch 19/20\n",
      "929/929 [==============================] - 203s 218ms/step - loss: 0.1726 - val_loss: 0.3238\n",
      "Epoch 20/20\n",
      "929/929 [==============================] - 225s 242ms/step - loss: 0.1698 - val_loss: 0.3290\n"
     ]
    }
   ],
   "source": [
    "from keras.models import Sequential\n",
    "from keras import layers\n",
    "from tensorflow.keras.optimizers import RMSprop\n",
    "\n",
    "model = Sequential()\n",
    "model.add(layers.GRU(32, input_shape=(None, X.shape[-1])))\n",
    "model.add(layers.Dense(1))\n",
    "model.compile(optimizer=RMSprop(), loss='mae')\n",
    "\n",
    "history = model.fit_generator(train_gen,\n",
    "                              steps_per_epoch=test_steps//batch_size,\n",
    "                              epochs=20,\n",
    "                              validation_data=val_gen,\n",
    "                              validation_steps=val_steps//batch_size)"
   ]
  },
  {
   "cell_type": "code",
   "execution_count": 31,
   "id": "42e63e86",
   "metadata": {},
   "outputs": [
    {
     "data": {
      "image/png": "[encoded data removed]",
      "text/plain": [
       "<Figure size 432x288 with 1 Axes>"
      ]
     },
     "metadata": {
      "needs_background": "light"
     },
     "output_type": "display_data"
    }
   ],
   "source": [
    "loss = history.history['loss']\n",
    "\n",
    "val_loss = history.history['val_loss']\n",
    "epochs = range(1, len(loss) + 1)\n",
    "\n",
    "plt.figure()\n",
    "plt.plot(epochs, loss, 'bo', label='Training loss')\n",
    "plt.plot(epochs, val_loss, 'b', label='Validation loss')\n",
    "plt.axline((0, baseline_mae), (20, baseline_mae), color='red', label='baseline (naive guess)')\n",
    "plt.ylim(0.1, 0.4)\n",
    "plt.title('Training and validation loss')\n",
    "plt.legend()\n",
    "plt.show()"
   ]
  },
  {
   "cell_type": "code",
   "execution_count": 220,
   "id": "9585fece",
   "metadata": {},
   "outputs": [],
   "source": [
    "test_gen_data = generator(X, \n",
    "                          lookback=lookback, \n",
    "                          delay=delay, \n",
    "                          min_index=300001, \n",
    "                          max_index=None, \n",
    "                          step=step, \n",
    "                          batch_size=1)"
   ]
  },
  {
   "cell_type": "code",
   "execution_count": 221,
   "id": "15a2818b",
   "metadata": {},
   "outputs": [],
   "source": [
    "# sample, target = next(test_gen_data)"
   ]
  },
  {
   "cell_type": "code",
   "execution_count": 222,
   "id": "bac09dea",
   "metadata": {},
   "outputs": [],
   "source": [
    "# pred = model.predict_generator(test_gen_data)"
   ]
  },
  {
   "cell_type": "code",
   "execution_count": 243,
   "id": "3245cd52",
   "metadata": {},
   "outputs": [],
   "source": [
    "truth = []\n",
    "pred = []\n",
    "\n",
    "for i in range(test_steps)[:100]:\n",
    "    x, y = next(test_gen_data)\n",
    "    pred.append(model.predict(x))\n",
    "    truth.append(y) \n",
    "\n",
    "pred = np.concatenate(pred)\n",
    "truth = np.concatenate(truth)"
   ]
  },
  {
   "cell_type": "markdown",
   "id": "e6d2ea29",
   "metadata": {},
   "source": [
    "### GRU regularized with dropout"
   ]
  },
  {
   "cell_type": "code",
   "execution_count": 251,
   "id": "99539a72",
   "metadata": {
    "scrolled": true
   },
   "outputs": [
    {
     "name": "stdout",
     "output_type": "stream",
     "text": [
      "Epoch 1/40\n",
      "929/929 [==============================] - 649s 693ms/step - loss: 0.3117 - val_loss: 0.2733\n",
      "Epoch 2/40\n",
      "929/929 [==============================] - 890s 958ms/step - loss: 0.2889 - val_loss: 0.2761\n",
      "Epoch 3/40\n",
      "929/929 [==============================] - 888s 956ms/step - loss: 0.2768 - val_loss: 0.2673\n",
      "Epoch 4/40\n",
      "929/929 [==============================] - 1030s 1s/step - loss: 0.2692 - val_loss: 0.2765\n",
      "Epoch 5/40\n",
      "929/929 [==============================] - 892s 960ms/step - loss: 0.2596 - val_loss: 0.2826\n",
      "Epoch 6/40\n",
      "929/929 [==============================] - 704s 758ms/step - loss: 0.2504 - val_loss: 0.2961\n",
      "Epoch 7/40\n",
      "929/929 [==============================] - 923s 994ms/step - loss: 0.2429 - val_loss: 0.2988\n",
      "Epoch 8/40\n",
      "929/929 [==============================] - 734s 790ms/step - loss: 0.2361 - val_loss: 0.3123\n",
      "Epoch 9/40\n",
      "929/929 [==============================] - 651s 701ms/step - loss: 0.2297 - val_loss: 0.3076\n",
      "Epoch 10/40\n",
      "929/929 [==============================] - 630s 678ms/step - loss: 0.2238 - val_loss: 0.3118\n",
      "Epoch 11/40\n",
      "929/929 [==============================] - 615s 662ms/step - loss: 0.2182 - val_loss: 0.3147\n",
      "Epoch 12/40\n",
      "929/929 [==============================] - 612s 659ms/step - loss: 0.2135 - val_loss: 0.3212\n",
      "Epoch 13/40\n",
      "929/929 [==============================] - 613s 660ms/step - loss: 0.2097 - val_loss: 0.3326\n",
      "Epoch 14/40\n",
      "929/929 [==============================] - 612s 659ms/step - loss: 0.2059 - val_loss: 0.3321\n",
      "Epoch 15/40\n",
      "929/929 [==============================] - 611s 658ms/step - loss: 0.2014 - val_loss: 0.3299\n",
      "Epoch 16/40\n",
      "929/929 [==============================] - 603s 649ms/step - loss: 0.1991 - val_loss: 0.3399\n",
      "Epoch 17/40\n",
      "929/929 [==============================] - 598s 644ms/step - loss: 0.1961 - val_loss: 0.3352\n",
      "Epoch 18/40\n",
      "929/929 [==============================] - 593s 638ms/step - loss: 0.1930 - val_loss: 0.3382\n",
      "Epoch 19/40\n",
      "929/929 [==============================] - 593s 639ms/step - loss: 0.1915 - val_loss: 0.3470\n",
      "Epoch 20/40\n",
      "929/929 [==============================] - 590s 635ms/step - loss: 0.1888 - val_loss: 0.3422\n",
      "Epoch 21/40\n",
      "929/929 [==============================] - 593s 638ms/step - loss: 0.1871 - val_loss: 0.3394\n",
      "Epoch 22/40\n",
      "929/929 [==============================] - 594s 639ms/step - loss: 0.1842 - val_loss: 0.3433\n",
      "Epoch 23/40\n",
      "929/929 [==============================] - 592s 637ms/step - loss: 0.1832 - val_loss: 0.3442\n",
      "Epoch 24/40\n",
      "929/929 [==============================] - 594s 639ms/step - loss: 0.1811 - val_loss: 0.3553\n",
      "Epoch 25/40\n",
      "929/929 [==============================] - 594s 639ms/step - loss: 0.1807 - val_loss: 0.3489\n",
      "Epoch 26/40\n",
      "929/929 [==============================] - 593s 638ms/step - loss: 0.1785 - val_loss: 0.3514\n",
      "Epoch 27/40\n",
      "929/929 [==============================] - 598s 643ms/step - loss: 0.1769 - val_loss: 0.3470\n",
      "Epoch 28/40\n",
      "929/929 [==============================] - 595s 640ms/step - loss: 0.1759 - val_loss: 0.3499\n",
      "Epoch 29/40\n",
      "929/929 [==============================] - 595s 640ms/step - loss: 0.1744 - val_loss: 0.3516\n",
      "Epoch 30/40\n",
      "929/929 [==============================] - 595s 641ms/step - loss: 0.1736 - val_loss: 0.3574\n",
      "Epoch 31/40\n",
      "929/929 [==============================] - 594s 639ms/step - loss: 0.1718 - val_loss: 0.3546\n",
      "Epoch 32/40\n",
      "929/929 [==============================] - 595s 640ms/step - loss: 0.1717 - val_loss: 0.3636\n",
      "Epoch 33/40\n",
      "929/929 [==============================] - 596s 641ms/step - loss: 0.1705 - val_loss: 0.3539\n",
      "Epoch 34/40\n",
      "929/929 [==============================] - 595s 641ms/step - loss: 0.1699 - val_loss: 0.3565\n",
      "Epoch 35/40\n",
      "929/929 [==============================] - 596s 642ms/step - loss: 0.1689 - val_loss: 0.3513\n",
      "Epoch 36/40\n",
      "929/929 [==============================] - 596s 641ms/step - loss: 0.1674 - val_loss: 0.3554\n",
      "Epoch 37/40\n",
      "929/929 [==============================] - 595s 641ms/step - loss: 0.1671 - val_loss: 0.3524\n",
      "Epoch 38/40\n",
      "929/929 [==============================] - 595s 641ms/step - loss: 0.1653 - val_loss: 0.3632\n",
      "Epoch 39/40\n",
      "929/929 [==============================] - 593s 638ms/step - loss: 0.1646 - val_loss: 0.3553\n",
      "Epoch 40/40\n",
      "929/929 [==============================] - 599s 644ms/step - loss: 0.1642 - val_loss: 0.3531\n"
     ]
    }
   ],
   "source": [
    "model = Sequential()\n",
    "\n",
    "model.add(layers.GRU(32,\n",
    "                     dropout=0.1,\n",
    "                     recurrent_dropout=0.5,\n",
    "                     return_sequences=True,\n",
    "                     input_shape=(None, X.shape[-1])))\n",
    "\n",
    "model.add(layers.GRU(64, \n",
    "                     activation='relu',\n",
    "                     dropout=0.1,\n",
    "                     recurrent_dropout=0.5))\n",
    "\n",
    "model.add(layers.Dense(1))\n",
    "\n",
    "model.compile(optimizer=RMSprop(), loss='mae')\n",
    "\n",
    "history = model.fit(train_gen,\n",
    "                    steps_per_epoch=test_steps//batch_size,\n",
    "                    epochs=40,\n",
    "                    validation_data=val_gen,\n",
    "                    validation_steps=val_steps//batch_size)"
   ]
  },
  {
   "cell_type": "code",
   "execution_count": 252,
   "id": "9dff5f1b",
   "metadata": {},
   "outputs": [
    {
     "data": {
      "image/png": "[encoded data removed]",
      "text/plain": [
       "<Figure size 432x288 with 1 Axes>"
      ]
     },
     "metadata": {
      "needs_background": "light"
     },
     "output_type": "display_data"
    }
   ],
   "source": [
    "loss = history.history['loss']\n",
    "\n",
    "val_loss = history.history['val_loss']\n",
    "epochs = range(1, len(loss) + 1)\n",
    "\n",
    "plt.figure()\n",
    "plt.plot(epochs, loss, 'bo', label='Training loss')\n",
    "plt.plot(epochs, val_loss, 'b', label='Validation loss')\n",
    "plt.axline((0, baseline_mae), (40, baseline_mae), color='red', label='baseline (naive guess)')\n",
    "plt.ylim(0.1, 0.4)\n",
    "plt.title('Training and validation loss')\n",
    "plt.legend()\n",
    "plt.show()"
   ]
  },
  {
   "cell_type": "markdown",
   "id": "18d75e52",
   "metadata": {},
   "source": [
    "### Bidirectional GRU"
   ]
  },
  {
   "cell_type": "code",
   "execution_count": 254,
   "id": "ea842b49",
   "metadata": {},
   "outputs": [
    {
     "name": "stdout",
     "output_type": "stream",
     "text": [
      "Epoch 1/10\n",
      "929/929 [==============================] - 277s 292ms/step - loss: 0.2883 - val_loss: 0.2718\n",
      "Epoch 2/10\n",
      "929/929 [==============================] - 314s 338ms/step - loss: 0.2672 - val_loss: 0.2814\n",
      "Epoch 3/10\n",
      "929/929 [==============================] - 262s 282ms/step - loss: 0.2553 - val_loss: 0.2673\n",
      "Epoch 4/10\n",
      "929/929 [==============================] - 399s 430ms/step - loss: 0.2441 - val_loss: 0.2766\n",
      "Epoch 5/10\n",
      "929/929 [==============================] - 415s 447ms/step - loss: 0.2340 - val_loss: 0.2809\n",
      "Epoch 6/10\n",
      "929/929 [==============================] - 425s 457ms/step - loss: 0.2213 - val_loss: 0.2899\n",
      "Epoch 7/10\n",
      "929/929 [==============================] - 328s 354ms/step - loss: 0.2102 - val_loss: 0.2997\n",
      "Epoch 8/10\n",
      "929/929 [==============================] - 305s 328ms/step - loss: 0.1988 - val_loss: 0.2993\n",
      "Epoch 9/10\n",
      "929/929 [==============================] - 296s 318ms/step - loss: 0.1904 - val_loss: 0.3103\n",
      "Epoch 10/10\n",
      "929/929 [==============================] - 279s 300ms/step - loss: 0.1818 - val_loss: 0.3143\n"
     ]
    }
   ],
   "source": [
    "model = Sequential()\n",
    "model.add(layers.Bidirectional(layers.GRU(32), \n",
    "                               input_shape=(None, X.shape[-1])))\n",
    "model.add(layers.Dense(1))\n",
    "model.compile(optimizer=RMSprop(), loss='mae')\n",
    "history = model.fit(train_gen,\n",
    "                    steps_per_epoch=test_steps//batch_size,\n",
    "                    epochs=10,\n",
    "                    validation_data=val_gen,\n",
    "                    validation_steps=val_steps//batch_size)"
   ]
  },
  {
   "cell_type": "code",
   "execution_count": 256,
   "id": "5edfc722",
   "metadata": {},
   "outputs": [
    {
     "data": {
      "image/png": "[encoded data removed]",
      "text/plain": [
       "<Figure size 432x288 with 1 Axes>"
      ]
     },
     "metadata": {
      "needs_background": "light"
     },
     "output_type": "display_data"
    }
   ],
   "source": [
    "loss = history.history['loss']\n",
    "\n",
    "val_loss = history.history['val_loss']\n",
    "epochs = range(1, len(loss) + 1)\n",
    "\n",
    "plt.figure()\n",
    "plt.plot(epochs, loss, 'bo', label='Training loss')\n",
    "plt.plot(epochs, val_loss, 'b', label='Validation loss')\n",
    "plt.axline((0, baseline_mae), (10, baseline_mae), color='red', label='baseline (naive guess)')\n",
    "plt.ylim(0.1, 0.4)\n",
    "plt.title('Training and validation loss')\n",
    "plt.legend()\n",
    "plt.show()"
   ]
  },
  {
   "cell_type": "code",
   "execution_count": null,
   "id": "68e4cccc",
   "metadata": {},
   "outputs": [],
   "source": []
  },
  {
   "cell_type": "code",
   "execution_count": null,
   "id": "3496e972",
   "metadata": {},
   "outputs": [],
   "source": []
  }
 ],
 "metadata": {
  "kernelspec": {
   "display_name": "Python 3 (ipykernel)",
   "language": "python",
   "name": "python3"
  },
  "language_info": {
   "codemirror_mode": {
    "name": "ipython",
    "version": 3
   },
   "file_extension": ".py",
   "mimetype": "text/x-python",
   "name": "python",
   "nbconvert_exporter": "python",
   "pygments_lexer": "ipython3",
   "version": "3.9.1"
  }
 },
 "nbformat": 4,
 "nbformat_minor": 5
}
