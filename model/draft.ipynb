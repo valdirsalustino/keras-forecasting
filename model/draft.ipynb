{
 "cells": [
  {
   "cell_type": "code",
   "execution_count": 1,
   "id": "3d56efd1",
   "metadata": {},
   "outputs": [],
   "source": [
    "import os\n",
    "from matplotlib import pyplot as plt\n",
    "import pandas as pd\n",
    "import numpy as np\n",
    "from progressbar import progressbar"
   ]
  },
  {
   "cell_type": "code",
   "execution_count": 188,
   "id": "44506876",
   "metadata": {},
   "outputs": [],
   "source": [
    "def generator(data, lookback, delay, min_index, max_index,\n",
    "              shuffle=False, batch_size=128, step=6):\n",
    "    \"\"\"\n",
    "      data: The original array of floating-point data (normalized)\n",
    "      lookback: How many timesteps back the input data should go.\n",
    "      delay: How many timesteps in the future the target should be.\n",
    "      min_index and max_index—Indices in the data array that delimit which time-steps to draw from.\n",
    "      This is useful for keeping a segment of the data for validation and another for testing.\n",
    "      shuffle: Whether to shuffle the samples or draw them in chronological order.\n",
    "      batch_size: The number of samples per batch.\n",
    "      step: The period, in timesteps, at which you sample data.\n",
    "    \"\"\"\n",
    "    \n",
    "    if max_index is None:\n",
    "        print(f'max_index is None computing new max_index...')\n",
    "        max_index = len(data) - delay - 1\n",
    "        print(f'max_index: {max_index}')\n",
    "    \n",
    "    i = min_index + lookback\n",
    "    \n",
    "    print(f'i: {i} = min_index + lookback')\n",
    "    \n",
    "    while True:\n",
    "        if shuffle:\n",
    "            rows = np.random.randint(min_index + lookback, max_index, size=batch_size)\n",
    "            print(f'rows shape: {rows.shape}')\n",
    "        else:\n",
    "            if i + batch_size >= max_index:\n",
    "                print('i + batch_size >= max_index (computing new i)')\n",
    "                i = min_index + lookback\n",
    "                print(f'new \\'i\\'= :{i}')\n",
    "            rows = np.arange(i, min(i + batch_size, max_index))\n",
    "            print(f'rows shape (no-suffle): {rows.shape}, rows len: {len(rows)}')\n",
    "            i += len(rows)\n",
    "            \n",
    "            print(f'i = {i}')\n",
    "            \n",
    "        samples = np.zeros((len(rows), lookback // step, data.shape[-1]))\n",
    "        print(f'samples (zeros): {samples.shape}')\n",
    "        \n",
    "        targets = np.zeros((len(rows)))\n",
    "        print(f'targets zeros: {targets.shape}')\n",
    "        \n",
    "        for j, row in enumerate(rows):\n",
    "            print(f'rows[{j}]:', rows[j])\n",
    "            indices = range(rows[j] - lookback, rows[j], step)\n",
    "            print(f'indices:{indices}')\n",
    "            \n",
    "            samples[j] = data[indices]\n",
    "            targets[j] = data[rows[j] + delay][1]\n",
    "            \n",
    "        yield samples, targets"
   ]
  },
  {
   "cell_type": "code",
   "execution_count": 189,
   "id": "30c7d8e2",
   "metadata": {},
   "outputs": [],
   "source": [
    "df = pd.read_csv('data/jena_climate_2009_2016.csv')"
   ]
  },
  {
   "cell_type": "code",
   "execution_count": 190,
   "id": "55fa1cee",
   "metadata": {},
   "outputs": [],
   "source": [
    "X = df[df.columns[1:]].values"
   ]
  },
  {
   "cell_type": "code",
   "execution_count": 191,
   "id": "78cca72f",
   "metadata": {},
   "outputs": [
    {
     "data": {
      "text/plain": [
       "(420451, 14)"
      ]
     },
     "execution_count": 191,
     "metadata": {},
     "output_type": "execute_result"
    }
   ],
   "source": [
    "X.shape"
   ]
  },
  {
   "cell_type": "code",
   "execution_count": 225,
   "id": "04b910ea",
   "metadata": {},
   "outputs": [],
   "source": [
    "lookback = 2*24*6 # (days*hours*step) Observations will go back 5 days.\n",
    "step = 6 # Observations will be sampled at one data point per hour.\n",
    "delay = 1*24*6 # Targets will be 24 hours in the future.\n",
    "batch_size = 2\n",
    "\n",
    "gen_train = generator(X,\n",
    "                      lookback=lookback,\n",
    "                      delay=delay,\n",
    "                      min_index=0,\n",
    "                      max_index=None,\n",
    "                      shuffle=False,\n",
    "                      step=step,\n",
    "                      batch_size=batch_size)"
   ]
  },
  {
   "cell_type": "code",
   "execution_count": 226,
   "id": "7f8bbbc2",
   "metadata": {},
   "outputs": [
    {
     "data": {
      "text/plain": [
       "(288, 144, 48.0)"
      ]
     },
     "execution_count": 226,
     "metadata": {},
     "output_type": "execute_result"
    }
   ],
   "source": [
    "lookback, delay, 288/6"
   ]
  },
  {
   "cell_type": "code",
   "execution_count": 228,
   "id": "4a0de86d",
   "metadata": {},
   "outputs": [
    {
     "name": "stdout",
     "output_type": "stream",
     "text": [
      "max_index is None computing new max_index...\n",
      "max_index: 420306\n",
      "i: 288 = min_index + lookback\n",
      "rows shape (no-suffle): (2,), rows len: 2\n",
      "i = 290\n",
      "samples (zeros): (2, 48, 14)\n",
      "targets zeros: (2,)\n",
      "rows[0]: 288\n",
      "indices:range(0, 288, 6)\n",
      "rows[1]: 289\n",
      "indices:range(1, 289, 6)\n"
     ]
    }
   ],
   "source": [
    "x, y = next(gen_train)"
   ]
  },
  {
   "cell_type": "code",
   "execution_count": 235,
   "id": "da697dd1",
   "metadata": {},
   "outputs": [
    {
     "data": {
      "text/plain": [
       "(2, 48, 14)"
      ]
     },
     "execution_count": 235,
     "metadata": {},
     "output_type": "execute_result"
    }
   ],
   "source": [
    "x.shape"
   ]
  },
  {
   "cell_type": "code",
   "execution_count": 242,
   "id": "dd83b38c",
   "metadata": {},
   "outputs": [
    {
     "data": {
      "text/plain": [
       "array([-1.83, -1.7 ])"
      ]
     },
     "execution_count": 242,
     "metadata": {},
     "output_type": "execute_result"
    }
   ],
   "source": [
    "y"
   ]
  },
  {
   "cell_type": "code",
   "execution_count": 236,
   "id": "a43af36b",
   "metadata": {},
   "outputs": [
    {
     "data": {
      "text/plain": [
       "range(0, 288, 6)"
      ]
     },
     "execution_count": 236,
     "metadata": {},
     "output_type": "execute_result"
    }
   ],
   "source": [
    "range(0, 288, 6)"
   ]
  },
  {
   "cell_type": "code",
   "execution_count": 237,
   "id": "929247bd",
   "metadata": {},
   "outputs": [
    {
     "data": {
      "text/html": [
       "<div>\n",
       "<style scoped>\n",
       "    .dataframe tbody tr th:only-of-type {\n",
       "        vertical-align: middle;\n",
       "    }\n",
       "\n",
       "    .dataframe tbody tr th {\n",
       "        vertical-align: top;\n",
       "    }\n",
       "\n",
       "    .dataframe thead th {\n",
       "        text-align: right;\n",
       "    }\n",
       "</style>\n",
       "<table border=\"1\" class=\"dataframe\">\n",
       "  <thead>\n",
       "    <tr style=\"text-align: right;\">\n",
       "      <th></th>\n",
       "      <th>Date Time</th>\n",
       "      <th>p (mbar)</th>\n",
       "      <th>T (degC)</th>\n",
       "      <th>Tpot (K)</th>\n",
       "      <th>Tdew (degC)</th>\n",
       "      <th>rh (%)</th>\n",
       "      <th>VPmax (mbar)</th>\n",
       "      <th>VPact (mbar)</th>\n",
       "      <th>VPdef (mbar)</th>\n",
       "      <th>sh (g/kg)</th>\n",
       "      <th>H2OC (mmol/mol)</th>\n",
       "      <th>rho (g/m**3)</th>\n",
       "      <th>wv (m/s)</th>\n",
       "      <th>max. wv (m/s)</th>\n",
       "      <th>wd (deg)</th>\n",
       "    </tr>\n",
       "  </thead>\n",
       "  <tbody>\n",
       "    <tr>\n",
       "      <th>0</th>\n",
       "      <td>01.01.2009 00:10:00</td>\n",
       "      <td>996.52</td>\n",
       "      <td>-8.02</td>\n",
       "      <td>265.40</td>\n",
       "      <td>-8.90</td>\n",
       "      <td>93.3</td>\n",
       "      <td>3.33</td>\n",
       "      <td>3.11</td>\n",
       "      <td>0.22</td>\n",
       "      <td>1.94</td>\n",
       "      <td>3.12</td>\n",
       "      <td>1307.75</td>\n",
       "      <td>1.03</td>\n",
       "      <td>1.75</td>\n",
       "      <td>152.3</td>\n",
       "    </tr>\n",
       "    <tr>\n",
       "      <th>1</th>\n",
       "      <td>01.01.2009 00:20:00</td>\n",
       "      <td>996.57</td>\n",
       "      <td>-8.41</td>\n",
       "      <td>265.01</td>\n",
       "      <td>-9.28</td>\n",
       "      <td>93.4</td>\n",
       "      <td>3.23</td>\n",
       "      <td>3.02</td>\n",
       "      <td>0.21</td>\n",
       "      <td>1.89</td>\n",
       "      <td>3.03</td>\n",
       "      <td>1309.80</td>\n",
       "      <td>0.72</td>\n",
       "      <td>1.50</td>\n",
       "      <td>136.1</td>\n",
       "    </tr>\n",
       "  </tbody>\n",
       "</table>\n",
       "</div>"
      ],
      "text/plain": [
       "             Date Time  p (mbar)  T (degC)  Tpot (K)  Tdew (degC)  rh (%)  \\\n",
       "0  01.01.2009 00:10:00    996.52     -8.02    265.40        -8.90    93.3   \n",
       "1  01.01.2009 00:20:00    996.57     -8.41    265.01        -9.28    93.4   \n",
       "\n",
       "   VPmax (mbar)  VPact (mbar)  VPdef (mbar)  sh (g/kg)  H2OC (mmol/mol)  \\\n",
       "0          3.33          3.11          0.22       1.94             3.12   \n",
       "1          3.23          3.02          0.21       1.89             3.03   \n",
       "\n",
       "   rho (g/m**3)  wv (m/s)  max. wv (m/s)  wd (deg)  \n",
       "0       1307.75      1.03           1.75     152.3  \n",
       "1       1309.80      0.72           1.50     136.1  "
      ]
     },
     "execution_count": 237,
     "metadata": {},
     "output_type": "execute_result"
    }
   ],
   "source": [
    "df[:2]"
   ]
  },
  {
   "cell_type": "code",
   "execution_count": 238,
   "id": "d17a2498",
   "metadata": {},
   "outputs": [
    {
     "data": {
      "text/plain": [
       "array([ 9.96520e+02, -8.02000e+00,  2.65400e+02, -8.90000e+00,\n",
       "        9.33000e+01,  3.33000e+00,  3.11000e+00,  2.20000e-01,\n",
       "        1.94000e+00,  3.12000e+00,  1.30775e+03,  1.03000e+00,\n",
       "        1.75000e+00,  1.52300e+02])"
      ]
     },
     "execution_count": 238,
     "metadata": {},
     "output_type": "execute_result"
    }
   ],
   "source": [
    "X[range(0,288,6)][0]"
   ]
  },
  {
   "cell_type": "code",
   "execution_count": 241,
   "id": "072971a9",
   "metadata": {},
   "outputs": [
    {
     "data": {
      "text/plain": [
       "array([ 992.79,   -1.83,  271.89,   -6.29,   71.4 ,    5.34,    3.81,\n",
       "          1.53,    2.39,    3.84, 1272.79,    1.44,    2.63,  214.1 ])"
      ]
     },
     "execution_count": 241,
     "metadata": {},
     "output_type": "execute_result"
    }
   ],
   "source": [
    "X[432]"
   ]
  },
  {
   "cell_type": "code",
   "execution_count": 198,
   "id": "0584e587",
   "metadata": {},
   "outputs": [],
   "source": [
    "A = np.array(['a', 'b', 'c', 'd'])"
   ]
  },
  {
   "cell_type": "markdown",
   "id": "300132cf",
   "metadata": {},
   "source": [
    "# Draft for bet data"
   ]
  },
  {
   "cell_type": "code",
   "execution_count": 252,
   "id": "5c320dec",
   "metadata": {},
   "outputs": [],
   "source": [
    "df = pd.read_csv('../../bet365-predictor/model/data/run3/futebol_eventos.csv')"
   ]
  },
  {
   "cell_type": "code",
   "execution_count": 254,
   "id": "5184625c",
   "metadata": {},
   "outputs": [
    {
     "data": {
      "text/html": [
       "<div>\n",
       "<style scoped>\n",
       "    .dataframe tbody tr th:only-of-type {\n",
       "        vertical-align: middle;\n",
       "    }\n",
       "\n",
       "    .dataframe tbody tr th {\n",
       "        vertical-align: top;\n",
       "    }\n",
       "\n",
       "    .dataframe thead th {\n",
       "        text-align: right;\n",
       "    }\n",
       "</style>\n",
       "<table border=\"1\" class=\"dataframe\">\n",
       "  <thead>\n",
       "    <tr style=\"text-align: right;\">\n",
       "      <th></th>\n",
       "      <th>evento</th>\n",
       "      <th>tempo</th>\n",
       "      <th>percentualjogo</th>\n",
       "    </tr>\n",
       "  </thead>\n",
       "  <tbody>\n",
       "    <tr>\n",
       "      <th>0</th>\n",
       "      <td>#/IP/EV15620970162C1</td>\n",
       "      <td>00:30</td>\n",
       "      <td>0.0</td>\n",
       "    </tr>\n",
       "    <tr>\n",
       "      <th>1</th>\n",
       "      <td>#/IP/EV15620970392C1</td>\n",
       "      <td>00:58</td>\n",
       "      <td>0.0</td>\n",
       "    </tr>\n",
       "    <tr>\n",
       "      <th>2</th>\n",
       "      <td>#/IP/EV15621025222C1</td>\n",
       "      <td>00:55</td>\n",
       "      <td>0.0</td>\n",
       "    </tr>\n",
       "    <tr>\n",
       "      <th>3</th>\n",
       "      <td>#/IP/EV15621026192C1</td>\n",
       "      <td>00:58</td>\n",
       "      <td>0.0</td>\n",
       "    </tr>\n",
       "    <tr>\n",
       "      <th>4</th>\n",
       "      <td>#/IP/EV15621376002C1</td>\n",
       "      <td>00:51</td>\n",
       "      <td>0.0</td>\n",
       "    </tr>\n",
       "    <tr>\n",
       "      <th>...</th>\n",
       "      <td>...</td>\n",
       "      <td>...</td>\n",
       "      <td>...</td>\n",
       "    </tr>\n",
       "    <tr>\n",
       "      <th>151215</th>\n",
       "      <td>#/IP/EV15632469442C1</td>\n",
       "      <td>99:51</td>\n",
       "      <td>1.1</td>\n",
       "    </tr>\n",
       "    <tr>\n",
       "      <th>151216</th>\n",
       "      <td>#/IP/EV15632479362C1</td>\n",
       "      <td>99:34</td>\n",
       "      <td>1.1</td>\n",
       "    </tr>\n",
       "    <tr>\n",
       "      <th>151217</th>\n",
       "      <td>#/IP/EV15632507502C1</td>\n",
       "      <td>99:43</td>\n",
       "      <td>1.1</td>\n",
       "    </tr>\n",
       "    <tr>\n",
       "      <th>151218</th>\n",
       "      <td>#/IP/EV15632507612C1</td>\n",
       "      <td>99:43</td>\n",
       "      <td>1.1</td>\n",
       "    </tr>\n",
       "    <tr>\n",
       "      <th>151219</th>\n",
       "      <td>#/IP/EV15632510012C1</td>\n",
       "      <td>99:58</td>\n",
       "      <td>1.1</td>\n",
       "    </tr>\n",
       "  </tbody>\n",
       "</table>\n",
       "<p>151220 rows × 3 columns</p>\n",
       "</div>"
      ],
      "text/plain": [
       "                      evento  tempo  percentualjogo\n",
       "0       #/IP/EV15620970162C1  00:30             0.0\n",
       "1       #/IP/EV15620970392C1  00:58             0.0\n",
       "2       #/IP/EV15621025222C1  00:55             0.0\n",
       "3       #/IP/EV15621026192C1  00:58             0.0\n",
       "4       #/IP/EV15621376002C1  00:51             0.0\n",
       "...                      ...    ...             ...\n",
       "151215  #/IP/EV15632469442C1  99:51             1.1\n",
       "151216  #/IP/EV15632479362C1  99:34             1.1\n",
       "151217  #/IP/EV15632507502C1  99:43             1.1\n",
       "151218  #/IP/EV15632507612C1  99:43             1.1\n",
       "151219  #/IP/EV15632510012C1  99:58             1.1\n",
       "\n",
       "[151220 rows x 3 columns]"
      ]
     },
     "execution_count": 254,
     "metadata": {},
     "output_type": "execute_result"
    }
   ],
   "source": [
    "tmp_df = pd.read_csv()\n",
    "df[['evento','tempo', 'percentualjogo']]"
   ]
  },
  {
   "cell_type": "code",
   "execution_count": null,
   "id": "afa5c3f0",
   "metadata": {},
   "outputs": [],
   "source": []
  }
 ],
 "metadata": {
  "kernelspec": {
   "display_name": "Python 3 (ipykernel)",
   "language": "python",
   "name": "python3"
  },
  "language_info": {
   "codemirror_mode": {
    "name": "ipython",
    "version": 3
   },
   "file_extension": ".py",
   "mimetype": "text/x-python",
   "name": "python",
   "nbconvert_exporter": "python",
   "pygments_lexer": "ipython3",
   "version": "3.9.1"
  }
 },
 "nbformat": 4,
 "nbformat_minor": 5
}
