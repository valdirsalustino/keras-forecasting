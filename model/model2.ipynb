{
 "cells": [
  {
   "cell_type": "code",
   "execution_count": 1,
   "id": "47229912",
   "metadata": {},
   "outputs": [],
   "source": [
    "import os\n",
    "import datetime\n",
    "\n",
    "import pandas as pd\n",
    "import numpy as np\n",
    "import tensorflow as tf\n",
    "from tensorflow import keras\n",
    "from sklearn.model_selection import train_test_split\n",
    "\n",
    "import matplotlib.pyplot as plt\n",
    "import seaborn as sns\n",
    "\n",
    "# from keras.preprocessing import timeseries"
   ]
  },
  {
   "cell_type": "code",
   "execution_count": 2,
   "id": "028eed11",
   "metadata": {},
   "outputs": [],
   "source": [
    "df = pd.read_csv('data/jena_climate_2009_2016.csv', index_col=None)"
   ]
  },
  {
   "cell_type": "code",
   "execution_count": 3,
   "id": "e20d891f",
   "metadata": {},
   "outputs": [
    {
     "data": {
      "text/plain": [
       "(420451, 15)"
      ]
     },
     "execution_count": 3,
     "metadata": {},
     "output_type": "execute_result"
    }
   ],
   "source": [
    "df.shape"
   ]
  },
  {
   "cell_type": "code",
   "execution_count": 4,
   "id": "76e922f6",
   "metadata": {},
   "outputs": [
    {
     "data": {
      "text/html": [
       "<div>\n",
       "<style scoped>\n",
       "    .dataframe tbody tr th:only-of-type {\n",
       "        vertical-align: middle;\n",
       "    }\n",
       "\n",
       "    .dataframe tbody tr th {\n",
       "        vertical-align: top;\n",
       "    }\n",
       "\n",
       "    .dataframe thead th {\n",
       "        text-align: right;\n",
       "    }\n",
       "</style>\n",
       "<table border=\"1\" class=\"dataframe\">\n",
       "  <thead>\n",
       "    <tr style=\"text-align: right;\">\n",
       "      <th></th>\n",
       "      <th>count</th>\n",
       "      <th>mean</th>\n",
       "      <th>std</th>\n",
       "      <th>min</th>\n",
       "      <th>25%</th>\n",
       "      <th>50%</th>\n",
       "      <th>75%</th>\n",
       "      <th>max</th>\n",
       "    </tr>\n",
       "  </thead>\n",
       "  <tbody>\n",
       "    <tr>\n",
       "      <th>p (mbar)</th>\n",
       "      <td>420451.0</td>\n",
       "      <td>989.212508</td>\n",
       "      <td>8.359454</td>\n",
       "      <td>913.60</td>\n",
       "      <td>984.20</td>\n",
       "      <td>989.57</td>\n",
       "      <td>994.72</td>\n",
       "      <td>1015.35</td>\n",
       "    </tr>\n",
       "    <tr>\n",
       "      <th>T (degC)</th>\n",
       "      <td>420451.0</td>\n",
       "      <td>9.448567</td>\n",
       "      <td>8.423685</td>\n",
       "      <td>-23.01</td>\n",
       "      <td>3.36</td>\n",
       "      <td>9.41</td>\n",
       "      <td>15.47</td>\n",
       "      <td>37.28</td>\n",
       "    </tr>\n",
       "    <tr>\n",
       "      <th>Tpot (K)</th>\n",
       "      <td>420451.0</td>\n",
       "      <td>283.491182</td>\n",
       "      <td>8.504820</td>\n",
       "      <td>250.60</td>\n",
       "      <td>277.43</td>\n",
       "      <td>283.46</td>\n",
       "      <td>289.53</td>\n",
       "      <td>311.34</td>\n",
       "    </tr>\n",
       "    <tr>\n",
       "      <th>Tdew (degC)</th>\n",
       "      <td>420451.0</td>\n",
       "      <td>4.954011</td>\n",
       "      <td>6.730411</td>\n",
       "      <td>-25.01</td>\n",
       "      <td>0.24</td>\n",
       "      <td>5.21</td>\n",
       "      <td>10.07</td>\n",
       "      <td>23.11</td>\n",
       "    </tr>\n",
       "    <tr>\n",
       "      <th>rh (%)</th>\n",
       "      <td>420451.0</td>\n",
       "      <td>76.007045</td>\n",
       "      <td>16.477126</td>\n",
       "      <td>12.95</td>\n",
       "      <td>65.21</td>\n",
       "      <td>79.30</td>\n",
       "      <td>89.40</td>\n",
       "      <td>100.00</td>\n",
       "    </tr>\n",
       "    <tr>\n",
       "      <th>VPmax (mbar)</th>\n",
       "      <td>420451.0</td>\n",
       "      <td>13.575089</td>\n",
       "      <td>7.739481</td>\n",
       "      <td>0.95</td>\n",
       "      <td>7.78</td>\n",
       "      <td>11.82</td>\n",
       "      <td>17.60</td>\n",
       "      <td>63.77</td>\n",
       "    </tr>\n",
       "    <tr>\n",
       "      <th>VPact (mbar)</th>\n",
       "      <td>420451.0</td>\n",
       "      <td>9.532524</td>\n",
       "      <td>4.183895</td>\n",
       "      <td>0.79</td>\n",
       "      <td>6.21</td>\n",
       "      <td>8.86</td>\n",
       "      <td>12.35</td>\n",
       "      <td>28.32</td>\n",
       "    </tr>\n",
       "    <tr>\n",
       "      <th>VPdef (mbar)</th>\n",
       "      <td>420451.0</td>\n",
       "      <td>4.042483</td>\n",
       "      <td>4.897270</td>\n",
       "      <td>0.00</td>\n",
       "      <td>0.87</td>\n",
       "      <td>2.19</td>\n",
       "      <td>5.30</td>\n",
       "      <td>46.01</td>\n",
       "    </tr>\n",
       "    <tr>\n",
       "      <th>sh (g/kg)</th>\n",
       "      <td>420451.0</td>\n",
       "      <td>6.021630</td>\n",
       "      <td>2.655973</td>\n",
       "      <td>0.50</td>\n",
       "      <td>3.92</td>\n",
       "      <td>5.59</td>\n",
       "      <td>7.80</td>\n",
       "      <td>18.13</td>\n",
       "    </tr>\n",
       "    <tr>\n",
       "      <th>H2OC (mmol/mol)</th>\n",
       "      <td>420451.0</td>\n",
       "      <td>9.638982</td>\n",
       "      <td>4.235130</td>\n",
       "      <td>0.80</td>\n",
       "      <td>6.29</td>\n",
       "      <td>8.96</td>\n",
       "      <td>12.48</td>\n",
       "      <td>28.82</td>\n",
       "    </tr>\n",
       "    <tr>\n",
       "      <th>rho (g/m**3)</th>\n",
       "      <td>420451.0</td>\n",
       "      <td>1216.069883</td>\n",
       "      <td>39.977065</td>\n",
       "      <td>1059.45</td>\n",
       "      <td>1187.49</td>\n",
       "      <td>1213.80</td>\n",
       "      <td>1242.77</td>\n",
       "      <td>1393.54</td>\n",
       "    </tr>\n",
       "    <tr>\n",
       "      <th>wv (m/s)</th>\n",
       "      <td>420451.0</td>\n",
       "      <td>2.130309</td>\n",
       "      <td>1.541830</td>\n",
       "      <td>0.00</td>\n",
       "      <td>0.99</td>\n",
       "      <td>1.76</td>\n",
       "      <td>2.86</td>\n",
       "      <td>14.63</td>\n",
       "    </tr>\n",
       "    <tr>\n",
       "      <th>max. wv (m/s)</th>\n",
       "      <td>420451.0</td>\n",
       "      <td>3.532381</td>\n",
       "      <td>2.340482</td>\n",
       "      <td>0.00</td>\n",
       "      <td>1.76</td>\n",
       "      <td>2.96</td>\n",
       "      <td>4.74</td>\n",
       "      <td>23.50</td>\n",
       "    </tr>\n",
       "    <tr>\n",
       "      <th>wd (deg)</th>\n",
       "      <td>420451.0</td>\n",
       "      <td>174.726164</td>\n",
       "      <td>86.675965</td>\n",
       "      <td>0.00</td>\n",
       "      <td>124.80</td>\n",
       "      <td>198.10</td>\n",
       "      <td>234.10</td>\n",
       "      <td>360.00</td>\n",
       "    </tr>\n",
       "  </tbody>\n",
       "</table>\n",
       "</div>"
      ],
      "text/plain": [
       "                    count         mean        std      min      25%      50%  \\\n",
       "p (mbar)         420451.0   989.212508   8.359454   913.60   984.20   989.57   \n",
       "T (degC)         420451.0     9.448567   8.423685   -23.01     3.36     9.41   \n",
       "Tpot (K)         420451.0   283.491182   8.504820   250.60   277.43   283.46   \n",
       "Tdew (degC)      420451.0     4.954011   6.730411   -25.01     0.24     5.21   \n",
       "rh (%)           420451.0    76.007045  16.477126    12.95    65.21    79.30   \n",
       "VPmax (mbar)     420451.0    13.575089   7.739481     0.95     7.78    11.82   \n",
       "VPact (mbar)     420451.0     9.532524   4.183895     0.79     6.21     8.86   \n",
       "VPdef (mbar)     420451.0     4.042483   4.897270     0.00     0.87     2.19   \n",
       "sh (g/kg)        420451.0     6.021630   2.655973     0.50     3.92     5.59   \n",
       "H2OC (mmol/mol)  420451.0     9.638982   4.235130     0.80     6.29     8.96   \n",
       "rho (g/m**3)     420451.0  1216.069883  39.977065  1059.45  1187.49  1213.80   \n",
       "wv (m/s)         420451.0     2.130309   1.541830     0.00     0.99     1.76   \n",
       "max. wv (m/s)    420451.0     3.532381   2.340482     0.00     1.76     2.96   \n",
       "wd (deg)         420451.0   174.726164  86.675965     0.00   124.80   198.10   \n",
       "\n",
       "                     75%      max  \n",
       "p (mbar)          994.72  1015.35  \n",
       "T (degC)           15.47    37.28  \n",
       "Tpot (K)          289.53   311.34  \n",
       "Tdew (degC)        10.07    23.11  \n",
       "rh (%)             89.40   100.00  \n",
       "VPmax (mbar)       17.60    63.77  \n",
       "VPact (mbar)       12.35    28.32  \n",
       "VPdef (mbar)        5.30    46.01  \n",
       "sh (g/kg)           7.80    18.13  \n",
       "H2OC (mmol/mol)    12.48    28.82  \n",
       "rho (g/m**3)     1242.77  1393.54  \n",
       "wv (m/s)            2.86    14.63  \n",
       "max. wv (m/s)       4.74    23.50  \n",
       "wd (deg)          234.10   360.00  "
      ]
     },
     "execution_count": 4,
     "metadata": {},
     "output_type": "execute_result"
    }
   ],
   "source": [
    "df.describe().T"
   ]
  },
  {
   "cell_type": "code",
   "execution_count": 5,
   "id": "00616491",
   "metadata": {},
   "outputs": [
    {
     "data": {
      "text/plain": [
       "Date Time          0\n",
       "p (mbar)           0\n",
       "T (degC)           0\n",
       "Tpot (K)           0\n",
       "Tdew (degC)        0\n",
       "rh (%)             0\n",
       "VPmax (mbar)       0\n",
       "VPact (mbar)       0\n",
       "VPdef (mbar)       0\n",
       "sh (g/kg)          0\n",
       "H2OC (mmol/mol)    0\n",
       "rho (g/m**3)       0\n",
       "wv (m/s)           0\n",
       "max. wv (m/s)      0\n",
       "wd (deg)           0\n",
       "dtype: int64"
      ]
     },
     "execution_count": 5,
     "metadata": {},
     "output_type": "execute_result"
    }
   ],
   "source": [
    "df.isnull().sum()"
   ]
  },
  {
   "cell_type": "code",
   "execution_count": 6,
   "id": "39a891f8",
   "metadata": {},
   "outputs": [
    {
     "data": {
      "image/png": "[encoded data removed]",
      "text/plain": [
       "<Figure size 576x576 with 2 Axes>"
      ]
     },
     "metadata": {
      "needs_background": "light"
     },
     "output_type": "display_data"
    }
   ],
   "source": [
    "corr = df.corr()\n",
    "plt.figure(figsize=(8,8))\n",
    "ax = sns.heatmap(corr, \n",
    "                 vmin=-1, \n",
    "                 vmax=1, \n",
    "                 center=0,\n",
    "                 cmap=sns.diverging_palette(20, 220, n=200), \n",
    "                 square=True)\n",
    "\n",
    "_ = ax.set_xticklabels(ax.get_xticklabels(), rotation=45, horizontalalignment='right')"
   ]
  },
  {
   "cell_type": "code",
   "execution_count": 7,
   "id": "ace01799",
   "metadata": {},
   "outputs": [
    {
     "data": {
      "text/plain": [
       "Index(['Date Time', 'p (mbar)', 'T (degC)', 'Tpot (K)', 'Tdew (degC)',\n",
       "       'rh (%)', 'VPmax (mbar)', 'VPact (mbar)', 'VPdef (mbar)', 'sh (g/kg)',\n",
       "       'H2OC (mmol/mol)', 'rho (g/m**3)', 'wv (m/s)', 'max. wv (m/s)',\n",
       "       'wd (deg)'],\n",
       "      dtype='object')"
      ]
     },
     "execution_count": 7,
     "metadata": {},
     "output_type": "execute_result"
    }
   ],
   "source": [
    "df.columns"
   ]
  },
  {
   "cell_type": "code",
   "execution_count": 8,
   "id": "3b2fd895",
   "metadata": {},
   "outputs": [
    {
     "data": {
      "text/plain": [
       "<AxesSubplot:>"
      ]
     },
     "execution_count": 8,
     "metadata": {},
     "output_type": "execute_result"
    },
    {
     "data": {
      "image/png": "[encoded data removed]",
      "text/plain": [
       "<Figure size 432x288 with 1 Axes>"
      ]
     },
     "metadata": {
      "needs_background": "light"
     },
     "output_type": "display_data"
    }
   ],
   "source": [
    "df['wv (m/s)'].hist(bins=100)"
   ]
  },
  {
   "cell_type": "code",
   "execution_count": 9,
   "id": "8c633c48",
   "metadata": {},
   "outputs": [
    {
     "data": {
      "text/plain": [
       "<AxesSubplot:>"
      ]
     },
     "execution_count": 9,
     "metadata": {},
     "output_type": "execute_result"
    },
    {
     "data": {
      "image/png": "[encoded data removed]",
      "text/plain": [
       "<Figure size 432x288 with 1 Axes>"
      ]
     },
     "metadata": {
      "needs_background": "light"
     },
     "output_type": "display_data"
    }
   ],
   "source": [
    "df['max. wv (m/s)'].hist(bins=100)"
   ]
  },
  {
   "cell_type": "code",
   "execution_count": 10,
   "id": "1dd15a67",
   "metadata": {},
   "outputs": [
    {
     "data": {
      "text/plain": [
       "(0.0, 23.5)"
      ]
     },
     "execution_count": 10,
     "metadata": {},
     "output_type": "execute_result"
    }
   ],
   "source": [
    "df['max. wv (m/s)'].min(), df['max. wv (m/s)'].max(), "
   ]
  },
  {
   "cell_type": "code",
   "execution_count": 11,
   "id": "a3493cb6",
   "metadata": {},
   "outputs": [],
   "source": [
    "split_fraction = 0.7\n",
    "train_split = int(split_fraction * int(df.shape[0]))"
   ]
  },
  {
   "cell_type": "code",
   "execution_count": 12,
   "id": "71d823b0",
   "metadata": {},
   "outputs": [
    {
     "data": {
      "text/plain": [
       "(294315, (420451, 15))"
      ]
     },
     "execution_count": 12,
     "metadata": {},
     "output_type": "execute_result"
    }
   ],
   "source": [
    "train_split, df.shape"
   ]
  },
  {
   "cell_type": "code",
   "execution_count": 18,
   "id": "e7e3764d",
   "metadata": {},
   "outputs": [],
   "source": [
    "df = df[df.columns[1:]]"
   ]
  },
  {
   "cell_type": "code",
   "execution_count": 19,
   "id": "42e95332",
   "metadata": {},
   "outputs": [],
   "source": [
    "# Apply normalization on ALL data, but using only TRAINING data\n",
    "data_mean = df[:train_split].mean(axis=0)\n",
    "data_std = df[:train_split].std(axis=0)\n",
    "\n",
    "# standard normalize\n",
    "df = (df-data_mean) / data_std"
   ]
  },
  {
   "cell_type": "code",
   "execution_count": 24,
   "id": "0974e0d7",
   "metadata": {},
   "outputs": [],
   "source": [
    "# train_test\n",
    "train_data = df.loc[:train_split-1]\n",
    "val_data = df.loc[train_split:]"
   ]
  },
  {
   "cell_type": "code",
   "execution_count": 26,
   "id": "e3de0f5e",
   "metadata": {},
   "outputs": [],
   "source": [
    "from tensorflow.keras.utils import timeseries_dataset_from_array"
   ]
  },
  {
   "cell_type": "code",
   "execution_count": 30,
   "id": "7a3c6c21",
   "metadata": {},
   "outputs": [
    {
     "data": {
      "text/plain": [
       "792   -2.723068\n",
       "793   -2.679158\n",
       "794   -2.619070\n",
       "795   -2.575160\n",
       "796   -2.487339\n",
       "Name: T (degC), dtype: float64"
      ]
     },
     "metadata": {},
     "output_type": "display_data"
    }
   ],
   "source": [
    "step = 6\n",
    "past = 720\n",
    "future = 72\n",
    "patience = 3\n",
    "batch_size = 256\n",
    "\n",
    "start = past + future\n",
    "end = start + train_split\n",
    "\n",
    "# start, end\n",
    "x_train = train_data.values\n",
    "y_train = df.iloc[start:end]['T (degC)']\n",
    "display(y_train.head())\n",
    "\n",
    "sequence_length = int(past / step)"
   ]
  },
  {
   "cell_type": "code",
   "execution_count": 36,
   "id": "98bd9eee",
   "metadata": {},
   "outputs": [
    {
     "name": "stdout",
     "output_type": "stream",
     "text": [
      "X_train shape == (294315, 14)\n",
      "y_train shape == (294315,)\n"
     ]
    }
   ],
   "source": [
    "print('X_train shape ==', x_train.shape)\n",
    "print('y_train shape ==', y_train.shape)"
   ]
  },
  {
   "cell_type": "code",
   "execution_count": 37,
   "id": "cd3aa3c9",
   "metadata": {},
   "outputs": [
    {
     "name": "stderr",
     "output_type": "stream",
     "text": [
      "2021-08-27 17:52:19.967109: I tensorflow/core/platform/cpu_feature_guard.cc:142] This TensorFlow binary is optimized with oneAPI Deep Neural Network Library (oneDNN) to use the following CPU instructions in performance-critical operations:  AVX2 FMA\n",
      "To enable them in other operations, rebuild TensorFlow with the appropriate compiler flags.\n"
     ]
    },
    {
     "name": "stdout",
     "output_type": "stream",
     "text": [
      "Input shape: (256, 120, 14)\n",
      "Target shape: (256,)\n"
     ]
    },
    {
     "name": "stderr",
     "output_type": "stream",
     "text": [
      "2021-08-27 17:52:20.361370: I tensorflow/compiler/mlir/mlir_graph_optimization_pass.cc:185] None of the MLIR Optimization Passes are enabled (registered 2)\n"
     ]
    }
   ],
   "source": [
    "dataset_train = timeseries_dataset_from_array(x_train, \n",
    "                                              y_train,\n",
    "                                              sequence_length=sequence_length,\n",
    "                                              sampling_rate=step,\n",
    "                                              batch_size=batch_size)\n",
    "\n",
    "for batch in dataset_train.take(1):\n",
    "    inputs, targets = batch\n",
    "\n",
    "print(\"Input shape:\", inputs.numpy().shape)\n",
    "print(\"Target shape:\", targets.numpy().shape)"
   ]
  },
  {
   "cell_type": "code",
   "execution_count": 38,
   "id": "adb4818e",
   "metadata": {},
   "outputs": [],
   "source": [
    "x_end = len(val_data) - past - future\n",
    "y_start = train_split + past + future\n",
    "\n",
    "x_val = val_data.iloc[:x_end].values\n",
    "y_val = df.iloc[y_start:]['T (degC)']\n",
    "\n",
    "dataset_val = timeseries_dataset_from_array(x_val, y_val,\n",
    "                                            sequence_length=sequence_length,\n",
    "                                            sampling_rate=step,\n",
    "                                            batch_size=batch_size,)"
   ]
  },
  {
   "cell_type": "markdown",
   "id": "5d23c1f9",
   "metadata": {},
   "source": [
    "# Model"
   ]
  },
  {
   "cell_type": "code",
   "execution_count": 48,
   "id": "ce6b0a99",
   "metadata": {},
   "outputs": [
    {
     "ename": "ImportError",
     "evalue": "cannot import name 'Adam' from 'keras.optimizers' (/Users/valdirsalustino/Documents/git/keras-forecasting/venv/lib/python3.9/site-packages/keras/optimizers.py)",
     "output_type": "error",
     "traceback": [
      "\u001b[0;31m---------------------------------------------------------------------------\u001b[0m",
      "\u001b[0;31mImportError\u001b[0m                               Traceback (most recent call last)",
      "\u001b[0;32m/var/folders/kw/9l7ms5gd5h9bj6r5czqrws8r0000gn/T/ipykernel_13939/2567078953.py\u001b[0m in \u001b[0;36m<module>\u001b[0;34m\u001b[0m\n\u001b[1;32m      3\u001b[0m \u001b[0;32mfrom\u001b[0m \u001b[0mkeras\u001b[0m\u001b[0;34m.\u001b[0m\u001b[0mmodels\u001b[0m \u001b[0;32mimport\u001b[0m \u001b[0mSequential\u001b[0m\u001b[0;34m,\u001b[0m \u001b[0mModel\u001b[0m\u001b[0;34m\u001b[0m\u001b[0;34m\u001b[0m\u001b[0m\n\u001b[1;32m      4\u001b[0m \u001b[0;32mfrom\u001b[0m \u001b[0mkeras\u001b[0m\u001b[0;34m.\u001b[0m\u001b[0mlayers\u001b[0m \u001b[0;32mimport\u001b[0m \u001b[0mInput\u001b[0m\u001b[0;34m,\u001b[0m \u001b[0mLSTM\u001b[0m\u001b[0;34m,\u001b[0m \u001b[0mDropout\u001b[0m\u001b[0;34m,\u001b[0m \u001b[0mDense\u001b[0m\u001b[0;34m\u001b[0m\u001b[0;34m\u001b[0m\u001b[0m\n\u001b[0;32m----> 5\u001b[0;31m \u001b[0;32mfrom\u001b[0m \u001b[0mkeras\u001b[0m\u001b[0;34m.\u001b[0m\u001b[0moptimizers\u001b[0m \u001b[0;32mimport\u001b[0m \u001b[0mAdam\u001b[0m\u001b[0;34m\u001b[0m\u001b[0;34m\u001b[0m\u001b[0m\n\u001b[0m\u001b[1;32m      6\u001b[0m \u001b[0;32mfrom\u001b[0m \u001b[0mkeras\u001b[0m\u001b[0;34m.\u001b[0m\u001b[0mcallbacks\u001b[0m \u001b[0;32mimport\u001b[0m \u001b[0mEarlyStopping\u001b[0m\u001b[0;34m,\u001b[0m \u001b[0mReduceLROnPlateau\u001b[0m\u001b[0;34m,\u001b[0m \u001b[0mModelCheckpoint\u001b[0m\u001b[0;34m,\u001b[0m \u001b[0mTensorBoard\u001b[0m\u001b[0;34m\u001b[0m\u001b[0;34m\u001b[0m\u001b[0m\n",
      "\u001b[0;31mImportError\u001b[0m: cannot import name 'Adam' from 'keras.optimizers' (/Users/valdirsalustino/Documents/git/keras-forecasting/venv/lib/python3.9/site-packages/keras/optimizers.py)"
     ]
    }
   ],
   "source": [
    "import gctf\n",
    "\n",
    "from keras.models import Sequential, Model\n",
    "from keras.layers import Input, LSTM, Dropout, Dense\n",
    "from keras.optimizers import Adam\n",
    "from keras.callbacks import EarlyStopping, ReduceLROnPlateau, ModelCheckpoint, TensorBoard"
   ]
  },
  {
   "cell_type": "code",
   "execution_count": null,
   "id": "d758482d",
   "metadata": {},
   "outputs": [],
   "source": []
  }
 ],
 "metadata": {
  "kernelspec": {
   "display_name": "Python 3 (ipykernel)",
   "language": "python",
   "name": "python3"
  },
  "language_info": {
   "codemirror_mode": {
    "name": "ipython",
    "version": 3
   },
   "file_extension": ".py",
   "mimetype": "text/x-python",
   "name": "python",
   "nbconvert_exporter": "python",
   "pygments_lexer": "ipython3",
   "version": "3.9.1"
  }
 },
 "nbformat": 4,
 "nbformat_minor": 5
}
